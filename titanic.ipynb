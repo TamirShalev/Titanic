{
 "cells": [
  {
   "cell_type": "code",
   "execution_count": 157,
   "metadata": {},
   "outputs": [],
   "source": [
    "# Import all necessary libraries\n",
    "\n",
    "import pandas as pd\n",
    "import numpy as np\n",
    "import seaborn as sns\n",
    "import matplotlib.pyplot as plt\n",
    "import warnings\n",
    "warnings.filterwarnings('ignore')"
   ]
  },
  {
   "cell_type": "code",
   "execution_count": 158,
   "metadata": {},
   "outputs": [],
   "source": [
    "train = pd.read_csv('train.csv')"
   ]
  },
  {
   "cell_type": "code",
   "execution_count": 159,
   "metadata": {},
   "outputs": [
    {
     "data": {
      "text/plain": [
       "Index(['PassengerId', 'Survived', 'Pclass', 'Name', 'Sex', 'Age', 'SibSp',\n",
       "       'Parch', 'Ticket', 'Fare', 'Cabin', 'Embarked'],\n",
       "      dtype='object')"
      ]
     },
     "execution_count": 159,
     "metadata": {},
     "output_type": "execute_result"
    }
   ],
   "source": [
    "train.columns"
   ]
  },
  {
   "cell_type": "markdown",
   "metadata": {},
   "source": [
    "### First it is important to understand what each feature stands for:\n",
    "\n",
    "#### Independent variables\n",
    "\n",
    "1. PassengerId: A unique identifier for each passenger.\n",
    "2. Pclass: Economic state. 1 stand for highest class and 3 stands for lowest class. \n",
    "3. Name: Passenger's name.\n",
    "4. Sex: Gender, male or female.\n",
    "5. Age: Passenger's age in years.\n",
    "6. SibSp: Number of siblings/spouses.\n",
    "7. Parch: Number of parents/children.\n",
    "8. Ticket: Ticket number.\n",
    "9. Fare: Ticket price.\n",
    "10. Cabin: Cabin number.\n",
    "11. Embarked: Port of embarkation (C = Cherbourg, Q = Queenstown, S = Southampton)\n",
    "\n",
    "#### Dependent/predicted variable\n",
    "\n",
    "Survived: Whether the passenger survived the disaster. No:0 , Yes:1\n"
   ]
  },
  {
   "cell_type": "markdown",
   "metadata": {},
   "source": [
    "Before evidencing which features contain useful information, I think its best to try and use some intuition (by order of most intuitive to less intuitive):\n",
    "\n",
    "1. Age should be informative for our model - younger ones should have higher survival rates. My assumption is that they may physically be more capable to survive or maybe their parents heroicly sacrificed themselves to help their children.\n",
    "2. Pclass should be informative for our model - High class people may have connections and people who can keep them alive. Also, maybe their cabins are located closer to lifeboats (We want to keep more paying customers alive..)\n",
    "3. Fare should be informative - Paying more for a ticket could imply higher survival rate (higher location on the ship, or maybe closer to lifeboats).\n",
    "4. Sex could be informative - We've all seen Titanic! It's intuitive to think that men would heroicly die in order to save their women (especially if they were pregnant, but we don't really know that for sure) and therefore women are more likely to survive.\n",
    "5. SibSp & Parch - This one may be tricky and therefore requires exploration. Having family members with you on board could imply that there might be someone who would help you survive, but on the other hand someone who you would die saving. There may be a slight effect on which kind of family member you're travelling with but I've decided to look on the number of family members, rather than their kind so both columns will be merged to a 'Family' column."
   ]
  },
  {
   "cell_type": "code",
   "execution_count": 160,
   "metadata": {},
   "outputs": [],
   "source": [
    "train_family = pd.Series(train['SibSp'] + train['Parch'], name='Family')\n",
    "train['Family']=train_family\n",
    "train.drop(['SibSp', 'Parch'], axis=1, inplace = True)"
   ]
  },
  {
   "cell_type": "code",
   "execution_count": 161,
   "metadata": {},
   "outputs": [
    {
     "data": {
      "text/plain": [
       "<AxesSubplot:xlabel='Pclass', ylabel='Survived'>"
      ]
     },
     "execution_count": 161,
     "metadata": {},
     "output_type": "execute_result"
    },
    {
     "data": {
      "image/png": "[encoded data removed]",
      "text/plain": [
       "<Figure size 432x288 with 1 Axes>"
      ]
     },
     "metadata": {
      "needs_background": "light"
     },
     "output_type": "display_data"
    }
   ],
   "source": [
    "sns.barplot(x=train['Pclass'], y=train['Survived'])"
   ]
  },
  {
   "cell_type": "code",
   "execution_count": 162,
   "metadata": {},
   "outputs": [
    {
     "data": {
      "text/plain": [
       "<AxesSubplot:xlabel='Sex', ylabel='Survived'>"
      ]
     },
     "execution_count": 162,
     "metadata": {},
     "output_type": "execute_result"
    },
    {
     "data": {
      "image/png": "[encoded data removed]",
      "text/plain": [
       "<Figure size 432x288 with 1 Axes>"
      ]
     },
     "metadata": {
      "needs_background": "light"
     },
     "output_type": "display_data"
    }
   ],
   "source": [
    "sns.barplot(x=train['Sex'], y=train['Survived'])"
   ]
  },
  {
   "cell_type": "code",
   "execution_count": 163,
   "metadata": {},
   "outputs": [
    {
     "data": {
      "text/plain": [
       "<AxesSubplot:xlabel='Family', ylabel='Survived'>"
      ]
     },
     "execution_count": 163,
     "metadata": {},
     "output_type": "execute_result"
    },
    {
     "data": {
      "image/png": "[encoded data removed]",
      "text/plain": [
       "<Figure size 432x288 with 1 Axes>"
      ]
     },
     "metadata": {
      "needs_background": "light"
     },
     "output_type": "display_data"
    }
   ],
   "source": [
    "sns.barplot(x=train['Family'], y=train['Survived'])"
   ]
  },
  {
   "cell_type": "code",
   "execution_count": 164,
   "metadata": {},
   "outputs": [
    {
     "data": {
      "text/plain": [
       "<AxesSubplot:xlabel='AgeGroup', ylabel='Survived'>"
      ]
     },
     "execution_count": 164,
     "metadata": {},
     "output_type": "execute_result"
    },
    {
     "data": {
      "image/png": "[encoded data removed]",
      "text/plain": [
       "<Figure size 432x288 with 1 Axes>"
      ]
     },
     "metadata": {
      "needs_background": "light"
     },
     "output_type": "display_data"
    }
   ],
   "source": [
    "# Infant: 0-3 |  Child: 3-13 | 'Teenager': 13-28 and so on..\n",
    "\n",
    "#Impute with median\n",
    "train['Age'] = train['Age'].fillna(train.Age.median())\n",
    "\n",
    "group_ranges = [0,3,13,18,30,64,np.inf]\n",
    "age_groups = ['Infant', 'Child','Teenager', 'Mature', 'Adult', 'Senior']\n",
    "\n",
    "train['AgeGroup'] = pd.cut(train['Age'], bins=group_ranges, labels = age_groups)\n",
    "\n",
    "sns.barplot(x=train['AgeGroup'], y=train['Survived'])"
   ]
  },
  {
   "cell_type": "code",
   "execution_count": 165,
   "metadata": {},
   "outputs": [],
   "source": [
    "# We won't include Cabin\n",
    "train.drop(['Cabin'], axis=1, inplace=True)"
   ]
  },
  {
   "cell_type": "code",
   "execution_count": 166,
   "metadata": {},
   "outputs": [
    {
     "data": {
      "text/plain": [
       "<AxesSubplot:>"
      ]
     },
     "execution_count": 166,
     "metadata": {},
     "output_type": "execute_result"
    },
    {
     "data": {
      "image/png": "[encoded data removed]",
      "text/plain": [
       "<Figure size 720x432 with 2 Axes>"
      ]
     },
     "metadata": {
      "needs_background": "light"
     },
     "output_type": "display_data"
    }
   ],
   "source": [
    "plt.figure(figsize=(10,6))\n",
    "sns.heatmap(train.corr(), annot = True)"
   ]
  },
  {
   "cell_type": "markdown",
   "metadata": {},
   "source": [
    "#### Conclusions:\n",
    "\n",
    "1. Age : Infants had the highest survival rates, after them children and on the 3rd place teenagers & adults. Sadly but not surprisingly, seniors had the lowest.\n",
    "2. Sex : Perhaps without Leonardo's heroic move (some would suggest that there was room for him too, but that's not for me to judge..) the intuition would have had to land from somewhere else. Anyways, the assumption was correct - higher survival rates for women.\n",
    "3. Fare : From the following heatmap we can see some useful information. First there is a positive correlation between Fare and Survival, as assumed. Also, there is a high correlation between Fare and Pclass - so high class do pay more (not surprising..) and therefore both features should be informative for us. Also notice that we can't get enough information on 'Age' from the heatmap. I have solved it using discretization (inspired by some notebook's I've seen and by exploring pandas documentation on 'cut' function.)\n",
    "4. SibSp & Parch : This part is of more importance to me since I really had no intuition on the survival rates here. Surprisingly, higher survival rates were for those who travelled with 2-4 family members. (This may be important information for you before choosing your next cruise's companions, just saying..)\n",
    "5. Pclass : High class had higher survival rates. Also, from the heatmap we can see a negative correlation between 'Survived' and 'Pclass' which means that the the survival rates increase as the economic class increases - as expected."
   ]
  },
  {
   "cell_type": "code",
   "execution_count": 167,
   "metadata": {},
   "outputs": [
    {
     "data": {
      "text/plain": [
       "PassengerId    0\n",
       "Survived       0\n",
       "Pclass         0\n",
       "Name           0\n",
       "Sex            0\n",
       "Age            0\n",
       "Ticket         0\n",
       "Fare           0\n",
       "Embarked       2\n",
       "Family         0\n",
       "AgeGroup       0\n",
       "dtype: int64"
      ]
     },
     "execution_count": 167,
     "metadata": {},
     "output_type": "execute_result"
    }
   ],
   "source": [
    "train.isnull().sum()"
   ]
  },
  {
   "cell_type": "code",
   "execution_count": 168,
   "metadata": {},
   "outputs": [],
   "source": [
    "# One-Hot encode 'Emarked' and remove 2 missing values.\n",
    "train = pd.get_dummies(data=train, columns=['Embarked'], drop_first=True)"
   ]
  },
  {
   "cell_type": "code",
   "execution_count": 169,
   "metadata": {},
   "outputs": [
    {
     "data": {
      "text/plain": [
       "PassengerId    0\n",
       "Survived       0\n",
       "Pclass         0\n",
       "Name           0\n",
       "Sex            0\n",
       "Age            0\n",
       "Ticket         0\n",
       "Fare           0\n",
       "Family         0\n",
       "AgeGroup       0\n",
       "Embarked_Q     0\n",
       "Embarked_S     0\n",
       "dtype: int64"
      ]
     },
     "execution_count": 169,
     "metadata": {},
     "output_type": "execute_result"
    }
   ],
   "source": [
    "train.isnull().sum()"
   ]
  },
  {
   "cell_type": "markdown",
   "metadata": {},
   "source": [
    "### Convert to numerical\n",
    "\n",
    "Many machine learning models can only handle numerical input, so we need to map them."
   ]
  },
  {
   "cell_type": "code",
   "execution_count": 170,
   "metadata": {},
   "outputs": [
    {
     "name": "stdout",
     "output_type": "stream",
     "text": [
      "<class 'pandas.core.frame.DataFrame'>\n",
      "RangeIndex: 891 entries, 0 to 890\n",
      "Data columns (total 12 columns):\n",
      " #   Column       Non-Null Count  Dtype  \n",
      "---  ------       --------------  -----  \n",
      " 0   PassengerId  891 non-null    int64  \n",
      " 1   Survived     891 non-null    int64  \n",
      " 2   Pclass       891 non-null    int64  \n",
      " 3   Name         891 non-null    object \n",
      " 4   Sex          891 non-null    int64  \n",
      " 5   Age          891 non-null    float64\n",
      " 6   Ticket       891 non-null    object \n",
      " 7   Fare         891 non-null    float64\n",
      " 8   Family       891 non-null    int64  \n",
      " 9   AgeGroup     891 non-null    int64  \n",
      " 10  Embarked_Q   891 non-null    uint8  \n",
      " 11  Embarked_S   891 non-null    uint8  \n",
      "dtypes: float64(2), int64(6), object(2), uint8(2)\n",
      "memory usage: 71.5+ KB\n"
     ]
    }
   ],
   "source": [
    "sex_map = {'male':1, 'female':2}\n",
    "age_group_map ={'Infant':1, 'Child':2, 'Teenager':3, 'Mature':4, 'Adult':5, 'Senior':6}\n",
    "\n",
    "train['Sex'] = train['Sex'].map(sex_map)\n",
    "train['AgeGroup'] = train['AgeGroup'].map(age_group_map).astype('int64')\n",
    "\n",
    "train.info()"
   ]
  },
  {
   "cell_type": "markdown",
   "metadata": {},
   "source": [
    "Now let's get rid of features we don't need - either because they are not enough informative, or we've used them to create different ones (like Family=SibSp+Parch, AgeGroup from Age).\n",
    "\n",
    "Also, let's fill missing values for test."
   ]
  },
  {
   "cell_type": "code",
   "execution_count": 171,
   "metadata": {},
   "outputs": [
    {
     "data": {
      "text/plain": [
       "<AxesSubplot:xlabel='Fare'>"
      ]
     },
     "execution_count": 171,
     "metadata": {},
     "output_type": "execute_result"
    },
    {
     "data": {
      "image/png": "[encoded data removed]",
      "text/plain": [
       "<Figure size 432x288 with 1 Axes>"
      ]
     },
     "metadata": {
      "needs_background": "light"
     },
     "output_type": "display_data"
    }
   ],
   "source": [
    "sns.distplot(a=train['Fare'], kde=False)"
   ]
  },
  {
   "cell_type": "code",
   "execution_count": 172,
   "metadata": {},
   "outputs": [],
   "source": [
    "# Quantize 'Fare'\n",
    "rank_ranges = [0,8, 15, 30, np.inf]\n",
    "fare_ranks = [1,2,3,4]\n",
    "\n",
    "train['FareRank'] = pd.cut(train['Fare'], bins=rank_ranges, labels = fare_ranks)"
   ]
  },
  {
   "cell_type": "code",
   "execution_count": 173,
   "metadata": {},
   "outputs": [
    {
     "data": {
      "text/plain": [
       "<AxesSubplot:xlabel='FareRank'>"
      ]
     },
     "execution_count": 173,
     "metadata": {},
     "output_type": "execute_result"
    },
    {
     "data": {
      "image/png": "[encoded data removed]",
      "text/plain": [
       "<Figure size 432x288 with 1 Axes>"
      ]
     },
     "metadata": {
      "needs_background": "light"
     },
     "output_type": "display_data"
    }
   ],
   "source": [
    "sns.distplot(a=train['FareRank'], kde=False)"
   ]
  },
  {
   "cell_type": "code",
   "execution_count": 174,
   "metadata": {},
   "outputs": [],
   "source": [
    "# Leave only important features\n",
    "train = train.drop(['PassengerId', 'Name', 'Ticket','Fare', 'Age'], axis=1)"
   ]
  },
  {
   "cell_type": "code",
   "execution_count": 175,
   "metadata": {},
   "outputs": [],
   "source": [
    "y = train['Survived']\n",
    "X = train.drop(['Survived'], axis=1)"
   ]
  },
  {
   "cell_type": "code",
   "execution_count": 176,
   "metadata": {},
   "outputs": [
    {
     "data": {
      "text/html": [
       "<div>\n",
       "<style scoped>\n",
       "    .dataframe tbody tr th:only-of-type {\n",
       "        vertical-align: middle;\n",
       "    }\n",
       "\n",
       "    .dataframe tbody tr th {\n",
       "        vertical-align: top;\n",
       "    }\n",
       "\n",
       "    .dataframe thead th {\n",
       "        text-align: right;\n",
       "    }\n",
       "</style>\n",
       "<table border=\"1\" class=\"dataframe\">\n",
       "  <thead>\n",
       "    <tr style=\"text-align: right;\">\n",
       "      <th></th>\n",
       "      <th>Pclass</th>\n",
       "      <th>Sex</th>\n",
       "      <th>Family</th>\n",
       "      <th>AgeGroup</th>\n",
       "      <th>Embarked_Q</th>\n",
       "      <th>Embarked_S</th>\n",
       "      <th>FareRank</th>\n",
       "    </tr>\n",
       "  </thead>\n",
       "  <tbody>\n",
       "    <tr>\n",
       "      <th>0</th>\n",
       "      <td>3</td>\n",
       "      <td>1</td>\n",
       "      <td>1</td>\n",
       "      <td>4</td>\n",
       "      <td>0</td>\n",
       "      <td>1</td>\n",
       "      <td>1</td>\n",
       "    </tr>\n",
       "    <tr>\n",
       "      <th>1</th>\n",
       "      <td>1</td>\n",
       "      <td>2</td>\n",
       "      <td>1</td>\n",
       "      <td>5</td>\n",
       "      <td>0</td>\n",
       "      <td>0</td>\n",
       "      <td>4</td>\n",
       "    </tr>\n",
       "    <tr>\n",
       "      <th>2</th>\n",
       "      <td>3</td>\n",
       "      <td>2</td>\n",
       "      <td>0</td>\n",
       "      <td>4</td>\n",
       "      <td>0</td>\n",
       "      <td>1</td>\n",
       "      <td>1</td>\n",
       "    </tr>\n",
       "    <tr>\n",
       "      <th>3</th>\n",
       "      <td>1</td>\n",
       "      <td>2</td>\n",
       "      <td>1</td>\n",
       "      <td>5</td>\n",
       "      <td>0</td>\n",
       "      <td>1</td>\n",
       "      <td>4</td>\n",
       "    </tr>\n",
       "    <tr>\n",
       "      <th>4</th>\n",
       "      <td>3</td>\n",
       "      <td>1</td>\n",
       "      <td>0</td>\n",
       "      <td>5</td>\n",
       "      <td>0</td>\n",
       "      <td>1</td>\n",
       "      <td>2</td>\n",
       "    </tr>\n",
       "  </tbody>\n",
       "</table>\n",
       "</div>"
      ],
      "text/plain": [
       "   Pclass  Sex  Family  AgeGroup  Embarked_Q  Embarked_S FareRank\n",
       "0       3    1       1         4           0           1        1\n",
       "1       1    2       1         5           0           0        4\n",
       "2       3    2       0         4           0           1        1\n",
       "3       1    2       1         5           0           1        4\n",
       "4       3    1       0         5           0           1        2"
      ]
     },
     "execution_count": 176,
     "metadata": {},
     "output_type": "execute_result"
    }
   ],
   "source": [
    "X.head()"
   ]
  },
  {
   "cell_type": "markdown",
   "metadata": {},
   "source": [
    "## Model selection"
   ]
  },
  {
   "cell_type": "code",
   "execution_count": 177,
   "metadata": {},
   "outputs": [],
   "source": [
    "from sklearn.linear_model import LogisticRegression\n",
    "from sklearn.naive_bayes import GaussianNB\n",
    "from sklearn.svm import SVC\n",
    "from sklearn.linear_model import Perceptron\n",
    "from sklearn.tree import DecisionTreeClassifier\n",
    "from sklearn.ensemble import RandomForestClassifier\n",
    "from sklearn.neighbors import KNeighborsClassifier\n",
    "from sklearn.linear_model import SGDClassifier\n",
    "from sklearn.ensemble import GradientBoostingClassifier"
   ]
  },
  {
   "cell_type": "code",
   "execution_count": 178,
   "metadata": {},
   "outputs": [],
   "source": [
    "from sklearn.model_selection import train_test_split\n",
    "from sklearn.metrics import accuracy_score\n",
    "\n",
    "X_train, X_valid, y_train, y_valid = train_test_split(X, y, test_size=0.2, random_state=42)"
   ]
  },
  {
   "cell_type": "code",
   "execution_count": 179,
   "metadata": {},
   "outputs": [
    {
     "name": "stdout",
     "output_type": "stream",
     "text": [
      "0.5865921787709497\n"
     ]
    }
   ],
   "source": [
    "log_reg = LogisticRegression()\n",
    "log_reg.fit(X_train, y_train)\n",
    "preds = log_reg.predict(X_valid)\n",
    "lr_acc = accuracy_score(preds, y_valid)\n",
    "print(lr_acc)"
   ]
  },
  {
   "cell_type": "code",
   "execution_count": 180,
   "metadata": {},
   "outputs": [
    {
     "name": "stdout",
     "output_type": "stream",
     "text": [
      "0.4245810055865922\n"
     ]
    }
   ],
   "source": [
    "gauss = GaussianNB()\n",
    "gauss.fit(X_train, y_train)\n",
    "preds = gauss.predict(X_valid)\n",
    "NB_acc = accuracy_score(preds, y_valid)\n",
    "print(NB_acc)"
   ]
  },
  {
   "cell_type": "code",
   "execution_count": 181,
   "metadata": {},
   "outputs": [
    {
     "name": "stdout",
     "output_type": "stream",
     "text": [
      "0.5865921787709497\n"
     ]
    }
   ],
   "source": [
    "svc = SVC()\n",
    "svc.fit(X_train, y_train)\n",
    "preds = svc.predict(X_valid)\n",
    "svc_acc = accuracy_score(preds, y_valid)\n",
    "print(svc_acc)"
   ]
  },
  {
   "cell_type": "code",
   "execution_count": 182,
   "metadata": {},
   "outputs": [
    {
     "name": "stdout",
     "output_type": "stream",
     "text": [
      "0.7653631284916201\n"
     ]
    }
   ],
   "source": [
    "perc = Perceptron()\n",
    "perc.fit(X_train, y_train)\n",
    "preds = perc.predict(X_valid)\n",
    "perc_acc = accuracy_score(preds, y_valid)\n",
    "print(perc_acc)"
   ]
  },
  {
   "cell_type": "code",
   "execution_count": 183,
   "metadata": {},
   "outputs": [
    {
     "name": "stdout",
     "output_type": "stream",
     "text": [
      "0.7877094972067039\n"
     ]
    }
   ],
   "source": [
    "dtc = DecisionTreeClassifier()\n",
    "dtc.fit(X_train, y_train)\n",
    "preds = dtc.predict(X_valid)\n",
    "dtc_acc = accuracy_score(preds, y_valid)\n",
    "print(dtc_acc)"
   ]
  },
  {
   "cell_type": "code",
   "execution_count": 184,
   "metadata": {},
   "outputs": [
    {
     "name": "stdout",
     "output_type": "stream",
     "text": [
      "0.7988826815642458\n"
     ]
    }
   ],
   "source": [
    "rfc = RandomForestClassifier()\n",
    "rfc.fit(X_train, y_train)\n",
    "preds = rfc.predict(X_valid)\n",
    "rfc_acc = accuracy_score(preds, y_valid)\n",
    "print(rfc_acc)"
   ]
  },
  {
   "cell_type": "code",
   "execution_count": 185,
   "metadata": {},
   "outputs": [
    {
     "name": "stdout",
     "output_type": "stream",
     "text": [
      "0.8100558659217877\n"
     ]
    }
   ],
   "source": [
    "knn = KNeighborsClassifier()\n",
    "knn.fit(X_train, y_train)\n",
    "preds = knn.predict(X_valid)\n",
    "knn_acc = accuracy_score(preds, y_valid)\n",
    "print(knn_acc)"
   ]
  },
  {
   "cell_type": "code",
   "execution_count": 186,
   "metadata": {},
   "outputs": [
    {
     "name": "stdout",
     "output_type": "stream",
     "text": [
      "0.5865921787709497\n"
     ]
    }
   ],
   "source": [
    "sgd = SGDClassifier()\n",
    "sgd.fit(X_train, y_train)\n",
    "preds = sgd.predict(X_valid)\n",
    "sgd_acc = accuracy_score(preds, y_valid)\n",
    "print(sgd_acc)"
   ]
  },
  {
   "cell_type": "code",
   "execution_count": 187,
   "metadata": {},
   "outputs": [
    {
     "name": "stdout",
     "output_type": "stream",
     "text": [
      "0.8268156424581006\n"
     ]
    }
   ],
   "source": [
    "xgb = GradientBoostingClassifier()\n",
    "xgb.fit(X_train, y_train)\n",
    "preds = xgb.predict(X_valid)\n",
    "xgb_acc = accuracy_score(preds, y_valid)\n",
    "print(xgb_acc)"
   ]
  },
  {
   "cell_type": "code",
   "execution_count": 188,
   "metadata": {},
   "outputs": [
    {
     "data": {
      "text/html": [
       "<div>\n",
       "<style scoped>\n",
       "    .dataframe tbody tr th:only-of-type {\n",
       "        vertical-align: middle;\n",
       "    }\n",
       "\n",
       "    .dataframe tbody tr th {\n",
       "        vertical-align: top;\n",
       "    }\n",
       "\n",
       "    .dataframe thead th {\n",
       "        text-align: right;\n",
       "    }\n",
       "</style>\n",
       "<table border=\"1\" class=\"dataframe\">\n",
       "  <thead>\n",
       "    <tr style=\"text-align: right;\">\n",
       "      <th></th>\n",
       "      <th>Model</th>\n",
       "      <th>Accuracies</th>\n",
       "    </tr>\n",
       "  </thead>\n",
       "  <tbody>\n",
       "    <tr>\n",
       "      <th>8</th>\n",
       "      <td>GradientBoostingClassifier</td>\n",
       "      <td>0.826816</td>\n",
       "    </tr>\n",
       "    <tr>\n",
       "      <th>6</th>\n",
       "      <td>KNN</td>\n",
       "      <td>0.810056</td>\n",
       "    </tr>\n",
       "    <tr>\n",
       "      <th>5</th>\n",
       "      <td>RandomForest</td>\n",
       "      <td>0.798883</td>\n",
       "    </tr>\n",
       "    <tr>\n",
       "      <th>4</th>\n",
       "      <td>DecisionTree</td>\n",
       "      <td>0.787709</td>\n",
       "    </tr>\n",
       "    <tr>\n",
       "      <th>3</th>\n",
       "      <td>Perceptron</td>\n",
       "      <td>0.765363</td>\n",
       "    </tr>\n",
       "    <tr>\n",
       "      <th>0</th>\n",
       "      <td>LogisticRegression</td>\n",
       "      <td>0.586592</td>\n",
       "    </tr>\n",
       "    <tr>\n",
       "      <th>2</th>\n",
       "      <td>SVM</td>\n",
       "      <td>0.586592</td>\n",
       "    </tr>\n",
       "    <tr>\n",
       "      <th>7</th>\n",
       "      <td>SGDClassifier</td>\n",
       "      <td>0.586592</td>\n",
       "    </tr>\n",
       "    <tr>\n",
       "      <th>1</th>\n",
       "      <td>GaussianNB</td>\n",
       "      <td>0.424581</td>\n",
       "    </tr>\n",
       "  </tbody>\n",
       "</table>\n",
       "</div>"
      ],
      "text/plain": [
       "                        Model  Accuracies\n",
       "8  GradientBoostingClassifier    0.826816\n",
       "6                         KNN    0.810056\n",
       "5                RandomForest    0.798883\n",
       "4                DecisionTree    0.787709\n",
       "3                  Perceptron    0.765363\n",
       "0          LogisticRegression    0.586592\n",
       "2                         SVM    0.586592\n",
       "7               SGDClassifier    0.586592\n",
       "1                  GaussianNB    0.424581"
      ]
     },
     "execution_count": 188,
     "metadata": {},
     "output_type": "execute_result"
    }
   ],
   "source": [
    "models = pd.Series(['LogisticRegression', 'GaussianNB', 'SVM', 'Perceptron',\n",
    "                   'DecisionTree', 'RandomForest', 'KNN', 'SGDClassifier', 'GradientBoostingClassifier'])\n",
    "accuracies = pd.Series([lr_acc, NB_acc, svc_acc, perc_acc,\n",
    "                       dtc_acc, rfc_acc, knn_acc, sgd_acc, xgb_acc])\n",
    "scores = pd.DataFrame({'Model':models, 'Accuracies':accuracies}).sort_values(['Accuracies'], ascending=False)\n",
    "scores"
   ]
  },
  {
   "cell_type": "code",
   "execution_count": 189,
   "metadata": {},
   "outputs": [],
   "source": [
    "from sklearn.model_selection import RandomizedSearchCV"
   ]
  },
  {
   "cell_type": "code",
   "execution_count": 190,
   "metadata": {},
   "outputs": [
    {
     "name": "stdout",
     "output_type": "stream",
     "text": [
      "Fitting 5 folds for each of 10 candidates, totalling 50 fits\n"
     ]
    },
    {
     "name": "stderr",
     "output_type": "stream",
     "text": [
      "[Parallel(n_jobs=4)]: Using backend LokyBackend with 4 concurrent workers.\n",
      "[Parallel(n_jobs=4)]: Done  33 tasks      | elapsed:   11.5s\n",
      "[Parallel(n_jobs=4)]: Done  50 out of  50 | elapsed:   19.5s finished\n"
     ]
    },
    {
     "name": "stdout",
     "output_type": "stream",
     "text": [
      "0.8244361272530287\n",
      "{'n_estimators': 500, 'min_samples_split': 10, 'min_samples_leaf': 1, 'max_depth': 5, 'learning_rate': 0.01}\n"
     ]
    }
   ],
   "source": [
    "# GradientBoosting hyperparameter tuning\n",
    "learning_rates = [0.001, 0.01, 0.1, 1]\n",
    "n_estimators = [100, 250, 500 ,1000]\n",
    "min_samples_split = [2, 5, 10, 15, 100]\n",
    "min_samples_leaf = [1, 2, 5, 10]\n",
    "max_depth = [5,10,15,20]\n",
    "\n",
    "params = {'learning_rate':learning_rates,\n",
    "         'n_estimators':n_estimators,\n",
    "         'min_samples_split':min_samples_split,\n",
    "         'min_samples_leaf':min_samples_leaf,\n",
    "         'max_depth':max_depth}\n",
    "\n",
    "\n",
    "gbc = GradientBoostingClassifier()\n",
    "grid_search = RandomizedSearchCV(estimator=gbc, param_distributions=params, scoring='accuracy', n_iter=10,\n",
    "                                 cv=5, verbose=2, random_state=42, n_jobs=4)\n",
    "grid_search.fit(X_train, y_train)\n",
    "print(grid_search.best_score_)\n",
    "print(grid_search.best_params_)"
   ]
  },
  {
   "cell_type": "code",
   "execution_count": 191,
   "metadata": {},
   "outputs": [
    {
     "name": "stdout",
     "output_type": "stream",
     "text": [
      "Fitting 5 folds for each of 10 candidates, totalling 50 fits\n"
     ]
    },
    {
     "name": "stderr",
     "output_type": "stream",
     "text": [
      "[Parallel(n_jobs=4)]: Using backend LokyBackend with 4 concurrent workers.\n",
      "[Parallel(n_jobs=4)]: Done  33 tasks      | elapsed:    9.3s\n",
      "[Parallel(n_jobs=4)]: Done  50 out of  50 | elapsed:   15.0s finished\n"
     ]
    },
    {
     "name": "stdout",
     "output_type": "stream",
     "text": [
      "0.8314291342460356\n",
      "{'n_estimators': 1000, 'min_samples_split': 15, 'min_samples_leaf': 2, 'max_depth': 20, 'criterion': 'gini'}\n"
     ]
    }
   ],
   "source": [
    "criterion=['gini', 'entropy']\n",
    "n_estimators = [100, 250, 500 ,1000]\n",
    "min_samples_split = [2, 5, 10, 15, 100]\n",
    "min_samples_leaf = [1, 2, 5, 10]\n",
    "max_depth = [5,10,15,20]\n",
    "\n",
    "params = {'n_estimators':n_estimators,\n",
    "         'min_samples_split':min_samples_split,\n",
    "         'min_samples_leaf':min_samples_leaf,\n",
    "         'max_depth':max_depth,\n",
    "         'criterion':criterion}\n",
    "\n",
    "\n",
    "rfc = RandomForestClassifier()\n",
    "grid_search = RandomizedSearchCV(estimator=rfc, param_distributions=params, scoring='accuracy', n_iter=10,\n",
    "                                 cv=5, verbose=2, random_state=42, n_jobs=4)\n",
    "grid_search.fit(X_train, y_train)\n",
    "print(grid_search.best_score_)\n",
    "print(grid_search.best_params_)"
   ]
  },
  {
   "cell_type": "code",
   "execution_count": 192,
   "metadata": {},
   "outputs": [
    {
     "name": "stdout",
     "output_type": "stream",
     "text": [
      "Fitting 5 folds for each of 4 candidates, totalling 20 fits\n",
      "0.8145671230178273\n",
      "{'n_neighbors': 14}\n"
     ]
    },
    {
     "name": "stderr",
     "output_type": "stream",
     "text": [
      "[Parallel(n_jobs=4)]: Using backend LokyBackend with 4 concurrent workers.\n",
      "[Parallel(n_jobs=4)]: Done  20 out of  20 | elapsed:    0.1s finished\n"
     ]
    }
   ],
   "source": [
    "n_neighbors = [5,8,11,14]\n",
    "\n",
    "\n",
    "params = {'n_neighbors':n_neighbors}\n",
    "\n",
    "\n",
    "knn = KNeighborsClassifier()\n",
    "grid_search = RandomizedSearchCV(estimator=knn, param_distributions=params, scoring='accuracy', n_iter=10,\n",
    "                                 cv=5, verbose=2, random_state=42, n_jobs=4)\n",
    "grid_search.fit(X_train, y_train)\n",
    "print(grid_search.best_score_)\n",
    "print(grid_search.best_params_)"
   ]
  },
  {
   "cell_type": "code",
   "execution_count": 193,
   "metadata": {},
   "outputs": [
    {
     "name": "stdout",
     "output_type": "stream",
     "text": [
      "Accuracy = 0.8156424581005587\n",
      "Accuracy = 0.8100558659217877\n",
      "Accuracy = 0.8156424581005587\n"
     ]
    }
   ],
   "source": [
    "# Use our best results from each model on the validation set\n",
    "best_gbc = GradientBoostingClassifier(n_estimators=500, min_samples_split=10,\n",
    "                                 min_samples_leaf=1, max_depth=5, learning_rate=0.01)\n",
    "best_rfc = RandomForestClassifier(n_estimators= 1000, min_samples_split= 10, min_samples_leaf=5,\n",
    "                                  max_depth= 20, criterion= 'gini')\n",
    "best_knn = KNeighborsClassifier(n_neighbors=14)\n",
    "\n",
    "models = [best_gbc, best_rfc, best_knn]\n",
    "for model in models:\n",
    "    model.fit(X_train, y_train)\n",
    "    preds = model.predict(X_valid)\n",
    "    print(f'Accuracy = {accuracy_score(y_valid, preds)}')"
   ]
  },
  {
   "cell_type": "markdown",
   "metadata": {},
   "source": [
    "## Conclusion:\n",
    "\n",
    "Top accuracy on the validation set was achieved by GradientBoosting and KNN."
   ]
  },
  {
   "cell_type": "code",
   "execution_count": null,
   "metadata": {},
   "outputs": [],
   "source": []
  }
 ],
 "metadata": {
  "kernelspec": {
   "display_name": "Python 3",
   "language": "python",
   "name": "python3"
  },
  "language_info": {
   "codemirror_mode": {
    "name": "ipython",
    "version": 3
   },
   "file_extension": ".py",
   "mimetype": "text/x-python",
   "name": "python",
   "nbconvert_exporter": "python",
   "pygments_lexer": "ipython3",
   "version": "3.8.5"
  }
 },
 "nbformat": 4,
 "nbformat_minor": 4
}
